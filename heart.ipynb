{
 "cells": [
  {
   "cell_type": "code",
   "execution_count": 1,
   "metadata": {
    "collapsed": true
   },
   "outputs": [],
   "source": [
    "import tensorflow as tf\n",
    "import numpy as np\n",
    "%matplotlib inline\n",
    "import matplotlib.pyplot as plt\n",
    "import os\n",
    "import xlrd"
   ]
  },
  {
   "cell_type": "code",
   "execution_count": 2,
   "metadata": {
    "collapsed": true
   },
   "outputs": [],
   "source": [
    "learning_rate=1.0\n",
    "nn_epochs = 30"
   ]
  },
  {
   "cell_type": "raw",
   "metadata": {},
   "source": [
    "for n, s in enumerate(book.sheets()):           \n",
    "    print(\"Sheet %d is called %s and has %d columns and %d rows\" % (n, s.name, s.ncols, s.nrows)"
   ]
  },
  {
   "cell_type": "code",
   "execution_count": 3,
   "metadata": {
    "collapsed": true
   },
   "outputs": [],
   "source": [
    "Data_file = \"heart.xls\""
   ]
  },
  {
   "cell_type": "code",
   "execution_count": 5,
   "metadata": {
    "scrolled": true
   },
   "outputs": [
    {
     "name": "stdout",
     "output_type": "stream",
     "text": [
      "<xlrd.sheet.Sheet object at 0x7fed51c5dfd0>\n"
     ]
    }
   ],
   "source": [
    "book = xlrd.open_workbook(Data_file, encoding_override=\"UTF-8\")\n",
    "sheet = book.sheet_by_index(0)\n",
    "print (sheet)\n",
    "for i in range(463):\n",
    "    if sheet.cell_value(i, 4) == \"Present\":\n",
    "        sheet._cell_values[i][4] = 1.0\n",
    "    else:\n",
    "        sheet._cell_values[i][4] = 0.0\n",
    "\n",
    "#print(x1)"
   ]
  },
  {
   "cell_type": "code",
   "execution_count": 7,
   "metadata": {},
   "outputs": [
    {
     "name": "stdout",
     "output_type": "stream",
     "text": [
      "10\n",
      "463\n"
     ]
    }
   ],
   "source": [
    "inp = [[sheet.cell_value(row, col) for col in range(sheet.ncols-1)] for row in range(1, sheet.nrows)]\n",
    "outp = [[sheet.cell_value(row,9) for row in range(1, sheet.nrows)]]\n",
    "print(sheet.ncols)\n",
    "print(sheet.nrows)"
   ]
  },
  {
   "cell_type": "code",
   "execution_count": 64,
   "metadata": {
    "collapsed": true
   },
   "outputs": [],
   "source": [
    "sess = tf.Session()"
   ]
  },
  {
   "cell_type": "code",
   "execution_count": 65,
   "metadata": {},
   "outputs": [
    {
     "data": {
      "text/plain": [
       "array([462,   9], dtype=int32)"
      ]
     },
     "execution_count": 65,
     "metadata": {},
     "output_type": "execute_result"
    }
   ],
   "source": [
    "sess.run(tf.shape(inp))"
   ]
  },
  {
   "cell_type": "code",
   "execution_count": 66,
   "metadata": {
    "collapsed": true
   },
   "outputs": [],
   "source": [
    "X=tf.placeholder(tf.float32, [sheet.nrows-1, 9])\n",
    "Y=tf.placeholder(tf.float32,[1,sheet.nrows-1])"
   ]
  },
  {
   "cell_type": "code",
   "execution_count": 67,
   "metadata": {
    "collapsed": true
   },
   "outputs": [],
   "source": [
    "w = tf.Variable(tf.random_normal(shape=[9, 1], stddev=0.01))\n",
    "b = tf.Variable(tf.random_normal(shape=[sheet.nrows-1, 1], stddev=0.01))           "
   ]
  },
  {
   "cell_type": "code",
   "execution_count": 68,
   "metadata": {
    "collapsed": true
   },
   "outputs": [],
   "source": [
    "logits = tf.matmul(X, w) + b"
   ]
  },
  {
   "cell_type": "code",
   "execution_count": 69,
   "metadata": {
    "collapsed": true
   },
   "outputs": [],
   "source": [
    "entropy = tf.nn.softmax_cross_entropy_with_logits(logits=tf.reshape(logits, [1, sheet.nrows-1]), labels=outp, name='entropy')\n",
    "loss = tf.reduce_mean(entropy)"
   ]
  },
  {
   "cell_type": "code",
   "execution_count": 70,
   "metadata": {},
   "outputs": [],
   "source": [
    "optimizer = tf.train.AdamOptimizer(learning_rate).minimize(loss)"
   ]
  },
  {
   "cell_type": "code",
   "execution_count": 71,
   "metadata": {
    "collapsed": true
   },
   "outputs": [],
   "source": [
    "sess = tf.Session()"
   ]
  },
  {
   "cell_type": "code",
   "execution_count": 72,
   "metadata": {
    "scrolled": true
   },
   "outputs": [
    {
     "name": "stdout",
     "output_type": "stream",
     "text": [
      "Average loss epoch 29: 287224864.0\n",
      "Optimization Finished!\n"
     ]
    }
   ],
   "source": [
    "start_time = time.time()\n",
    "sess.run(tf.initialize_all_variables())\n",
    "for i in range(30):\n",
    "    total_loss = 0\n",
    "    for _ in range(sheet.nrows-1):\n",
    "         total_loss = 0\n",
    "         _, loss_batch = sess.run([optimizer, loss], feed_dict={X: inp, Y: outp})\n",
    "         total_loss += loss_batch\n",
    "print ('Average loss epoch {0}: {1}'.format(i, total_loss))\n",
    "print('Optimization Finished!')"
   ]
  },
  {
   "cell_type": "code",
   "execution_count": 73,
   "metadata": {
    "collapsed": true
   },
   "outputs": [],
   "source": [
    "Data_file = \"heart.xls\" "
   ]
  },
  {
   "cell_type": "code",
   "execution_count": 74,
   "metadata": {
    "collapsed": true
   },
   "outputs": [],
   "source": [
    "tbook = xlrd.open_workbook(Data_file, encoding_override='utf-8')\n",
    "tsheet = book.sheet_by_index(0)\n",
    "tinp = [[sheet.cell_value(r, c) for c in range(sheet.ncols-1)] for r in range(1, sheet.nrows)]\n",
    "toutp = [[sheet.cell_value(r,9) for r in range(1, sheet.nrows)]]"
   ]
  },
  {
   "cell_type": "code",
   "execution_count": 75,
   "metadata": {},
   "outputs": [
    {
     "data": {
      "text/plain": [
       "array([462,   9], dtype=int32)"
      ]
     },
     "execution_count": 75,
     "metadata": {},
     "output_type": "execute_result"
    }
   ],
   "source": [
    "sess.run(tf.shape(tinp))"
   ]
  },
  {
   "cell_type": "code",
   "execution_count": 76,
   "metadata": {},
   "outputs": [
    {
     "data": {
      "text/plain": [
       "array([  1, 462], dtype=int32)"
      ]
     },
     "execution_count": 76,
     "metadata": {},
     "output_type": "execute_result"
    }
   ],
   "source": [
    "sess.run(tf.shape(toutp))"
   ]
  },
  {
   "cell_type": "code",
   "execution_count": 77,
   "metadata": {},
   "outputs": [
    {
     "data": {
      "text/plain": [
       "array([462,   9], dtype=int32)"
      ]
     },
     "execution_count": 77,
     "metadata": {},
     "output_type": "execute_result"
    }
   ],
   "source": [
    "sess.run(tf.shape(inp))"
   ]
  },
  {
   "cell_type": "code",
   "execution_count": 78,
   "metadata": {},
   "outputs": [
    {
     "data": {
      "text/plain": [
       "array([  1, 462], dtype=int32)"
      ]
     },
     "execution_count": 78,
     "metadata": {},
     "output_type": "execute_result"
    }
   ],
   "source": [
    "sess.run(tf.shape(outp))"
   ]
  },
  {
   "cell_type": "code",
   "execution_count": 80,
   "metadata": {},
   "outputs": [
    {
     "name": "stdout",
     "output_type": "stream",
     "text": [
      "Accuracy0.997840172786\n"
     ]
    }
   ],
   "source": [
    "\n",
    "total_correct_preds = 0\n",
    "#for _ in range(sheet.nrows-1):\n",
    "    #logic_batch = sess.run(logits, feed_dict={X:tinp, Y:toutp})\n",
    "_, loss_batch = sess.run([optimizer,logits], feed_dict={X: tinp, Y:toutp})\n",
    "preds = tf.nn.softmax(loss_batch)\n",
    "correct_preds = tf.equal(tf.argmax(preds, 1), tf.argmax(toutp, 1))\n",
    "accuracy = tf.reduce_sum(tf.cast(correct_preds, tf.float32))\n",
    "total_correct_preds+=sess.run(accuracy) \n",
    "print('Accuracy{0}'.format(total_correct_preds/sheet.nrows))"
   ]
  },
  {
   "cell_type": "code",
   "execution_count": null,
   "metadata": {
    "collapsed": true
   },
   "outputs": [],
   "source": []
  }
 ],
 "metadata": {
  "kernelspec": {
   "display_name": "Python 3",
   "language": "python",
   "name": "python3"
  },
  "language_info": {
   "codemirror_mode": {
    "name": "ipython",
    "version": 3
   },
   "file_extension": ".py",
   "mimetype": "text/x-python",
   "name": "python",
   "nbconvert_exporter": "python",
   "pygments_lexer": "ipython3",
   "version": "3.6.3"
  }
 },
 "nbformat": 4,
 "nbformat_minor": 2
}
